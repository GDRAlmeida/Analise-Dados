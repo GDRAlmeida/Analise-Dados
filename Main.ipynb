{
 "cells": [
  {
   "cell_type": "code",
   "execution_count": 1,
   "id": "50b34a75-855b-41b1-9449-04695c669ef5",
   "metadata": {},
   "outputs": [
    {
     "name": "stdout",
     "output_type": "stream",
     "text": [
      "Autores:\n",
      "Nome: Gabriel Davi Reis Almeida\n",
      "Matrícula: 204400057\n"
     ]
    }
   ],
   "source": [
    "from minhaBiblioteca import MinhaClasse\n",
    "MinhaClasse.autores()"
   ]
  },
  {
   "cell_type": "markdown",
   "id": "e6e6550e-abf0-4309-b4bd-0373a03dfb15",
   "metadata": {},
   "source": [
    "# Projeto de Análise de dados sobre Diabetes"
   ]
  },
  {
   "cell_type": "markdown",
   "id": "95d29212-c082-4af4-b95d-c58ad16d3bdc",
   "metadata": {},
   "source": [
    "##### Neste projeto iremos explorar a base de dados coletada de pacientes diabéticos"
   ]
  },
  {
   "cell_type": "code",
   "execution_count": 3,
   "id": "a9aded66-4c38-4f7e-84bb-4762cd1fed18",
   "metadata": {},
   "outputs": [
    {
     "name": "stdout",
     "output_type": "stream",
     "text": [
      "   gravidez  glicose  pressao_sangue  espessura_pele  insulina   IMC  \\\n",
      "0         6      148              72              35         0  33.6   \n",
      "1         1       85              66              29         0  26.6   \n",
      "2         8      183              64               0         0  23.3   \n",
      "3         1       89              66              23        94  28.1   \n",
      "4         0      137              40              35       168  43.1   \n",
      "\n",
      "   predisposicao_diabetes  idade  diabetes  \n",
      "0                   0.627     50         1  \n",
      "1                   0.351     31         0  \n",
      "2                   0.672     32         1  \n",
      "3                   0.167     21         0  \n",
      "4                   2.288     33         1  \n"
     ]
    }
   ],
   "source": [
    "import pandas as pd\n",
    "dataframe = pd.read_csv('Dados_Diabetes.csv', sep=';')\n",
    "print(dataframe.head(5))"
   ]
  },
  {
   "cell_type": "code",
   "execution_count": null,
   "id": "8e497ae9-924b-48ee-85c3-33e283c46ff3",
   "metadata": {},
   "outputs": [],
   "source": []
  }
 ],
 "metadata": {
  "kernelspec": {
   "display_name": "Python 3 (ipykernel)",
   "language": "python",
   "name": "python3"
  },
  "language_info": {
   "codemirror_mode": {
    "name": "ipython",
    "version": 3
   },
   "file_extension": ".py",
   "mimetype": "text/x-python",
   "name": "python",
   "nbconvert_exporter": "python",
   "pygments_lexer": "ipython3",
   "version": "3.11.7"
  }
 },
 "nbformat": 4,
 "nbformat_minor": 5
}
