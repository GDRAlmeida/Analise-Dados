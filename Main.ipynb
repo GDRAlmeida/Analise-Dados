{
 "cells": [
  {
   "cell_type": "code",
   "execution_count": 14,
   "id": "50b34a75-855b-41b1-9449-04695c669ef5",
   "metadata": {},
   "outputs": [
    {
     "name": "stdout",
     "output_type": "stream",
     "text": [
      "Autores:\n",
      "Nome: Gabriel Davi Reis Almeida\n",
      "Matrícula: 204400057\n",
      "Nome: Larissa Aparecida Leite da Silva\n",
      "Matrícula: 184450017\n",
      "Nome: Pedro Henrique do Nascimento Costa\n",
      "Matrícula: 174450033\n"
     ]
    }
   ],
   "source": [
    "from minhaBiblioteca import MinhaClasse\n",
    "import matplotlib.pyplot as plt\n",
    "import seaborn as sns\n",
    "MinhaClasse.autores()"
   ]
  },
  {
   "cell_type": "markdown",
   "id": "e6e6550e-abf0-4309-b4bd-0373a03dfb15",
   "metadata": {},
   "source": [
    "# Projeto de Análise de dados sobre Diabetes"
   ]
  },
  {
   "cell_type": "markdown",
   "id": "95d29212-c082-4af4-b95d-c58ad16d3bdc",
   "metadata": {},
   "source": [
    "##### Neste projeto iremos explorar a base de dados coletada de pacientes diabéticos e tentar entender qual a correlação dos dados de saúde dos pacientes com a probabilidade de estarem com diabetes"
   ]
  },
  {
   "cell_type": "code",
   "execution_count": 2,
   "id": "90ae63be",
   "metadata": {},
   "outputs": [
    {
     "data": {
      "text/html": [
       "<div>\n",
       "<style scoped>\n",
       "    .dataframe tbody tr th:only-of-type {\n",
       "        vertical-align: middle;\n",
       "    }\n",
       "\n",
       "    .dataframe tbody tr th {\n",
       "        vertical-align: top;\n",
       "    }\n",
       "\n",
       "    .dataframe thead th {\n",
       "        text-align: right;\n",
       "    }\n",
       "</style>\n",
       "<table border=\"1\" class=\"dataframe\">\n",
       "  <thead>\n",
       "    <tr style=\"text-align: right;\">\n",
       "      <th></th>\n",
       "      <th>gravidez</th>\n",
       "      <th>glicose</th>\n",
       "      <th>pressao_sangue</th>\n",
       "      <th>espessura_pele</th>\n",
       "      <th>insulina</th>\n",
       "      <th>IMC</th>\n",
       "      <th>predisposicao_diabetes</th>\n",
       "      <th>idade</th>\n",
       "      <th>diabetes</th>\n",
       "    </tr>\n",
       "  </thead>\n",
       "  <tbody>\n",
       "    <tr>\n",
       "      <th>0</th>\n",
       "      <td>6</td>\n",
       "      <td>148</td>\n",
       "      <td>72</td>\n",
       "      <td>35</td>\n",
       "      <td>0</td>\n",
       "      <td>33.6</td>\n",
       "      <td>0.627</td>\n",
       "      <td>50</td>\n",
       "      <td>1</td>\n",
       "    </tr>\n",
       "    <tr>\n",
       "      <th>1</th>\n",
       "      <td>1</td>\n",
       "      <td>85</td>\n",
       "      <td>66</td>\n",
       "      <td>29</td>\n",
       "      <td>0</td>\n",
       "      <td>26.6</td>\n",
       "      <td>0.351</td>\n",
       "      <td>31</td>\n",
       "      <td>0</td>\n",
       "    </tr>\n",
       "    <tr>\n",
       "      <th>2</th>\n",
       "      <td>8</td>\n",
       "      <td>183</td>\n",
       "      <td>64</td>\n",
       "      <td>0</td>\n",
       "      <td>0</td>\n",
       "      <td>23.3</td>\n",
       "      <td>0.672</td>\n",
       "      <td>32</td>\n",
       "      <td>1</td>\n",
       "    </tr>\n",
       "    <tr>\n",
       "      <th>3</th>\n",
       "      <td>1</td>\n",
       "      <td>89</td>\n",
       "      <td>66</td>\n",
       "      <td>23</td>\n",
       "      <td>94</td>\n",
       "      <td>28.1</td>\n",
       "      <td>0.167</td>\n",
       "      <td>21</td>\n",
       "      <td>0</td>\n",
       "    </tr>\n",
       "    <tr>\n",
       "      <th>4</th>\n",
       "      <td>0</td>\n",
       "      <td>137</td>\n",
       "      <td>40</td>\n",
       "      <td>35</td>\n",
       "      <td>168</td>\n",
       "      <td>43.1</td>\n",
       "      <td>2.288</td>\n",
       "      <td>33</td>\n",
       "      <td>1</td>\n",
       "    </tr>\n",
       "  </tbody>\n",
       "</table>\n",
       "</div>"
      ],
      "text/plain": [
       "   gravidez  glicose  pressao_sangue  espessura_pele  insulina   IMC  \\\n",
       "0         6      148              72              35         0  33.6   \n",
       "1         1       85              66              29         0  26.6   \n",
       "2         8      183              64               0         0  23.3   \n",
       "3         1       89              66              23        94  28.1   \n",
       "4         0      137              40              35       168  43.1   \n",
       "\n",
       "   predisposicao_diabetes  idade  diabetes  \n",
       "0                   0.627     50         1  \n",
       "1                   0.351     31         0  \n",
       "2                   0.672     32         1  \n",
       "3                   0.167     21         0  \n",
       "4                   2.288     33         1  "
      ]
     },
     "metadata": {},
     "output_type": "display_data"
    }
   ],
   "source": [
    "import pandas as pd\n",
    "dataframe = pd.read_csv('Dados_Diabetes.csv', sep=';')\n",
    "display(dataframe.head(5))"
   ]
  },
  {
   "cell_type": "code",
   "execution_count": null,
   "id": "362637fd",
   "metadata": {},
   "outputs": [],
   "source": []
  },
  {
   "cell_type": "code",
   "execution_count": null,
   "id": "d45891f9",
   "metadata": {},
   "outputs": [],
   "source": []
  }
 ],
 "metadata": {
  "kernelspec": {
   "display_name": "Python 3 (ipykernel)",
   "language": "python",
   "name": "python3"
  },
  "language_info": {
   "codemirror_mode": {
    "name": "ipython",
    "version": 3
   },
   "file_extension": ".py",
   "mimetype": "text/x-python",
   "name": "python",
   "nbconvert_exporter": "python",
   "pygments_lexer": "ipython3",
   "version": "3.9.13"
  }
 },
 "nbformat": 4,
 "nbformat_minor": 5
}
